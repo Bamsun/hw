{
 "cells": [
  {
   "cell_type": "markdown",
   "metadata": {},
   "source": [
    "### 61"
   ]
  },
  {
   "cell_type": "code",
   "execution_count": null,
   "metadata": {
    "collapsed": false
   },
   "outputs": [],
   "source": [
    "b = []\n",
    "while True:\n",
    "    \n",
    "    a = int(input())\n",
    "    \n",
    "    if a is 0:\n",
    "        break\n",
    "    \n",
    "    \n",
    "    b+=[a]"
   ]
  },
  {
   "cell_type": "code",
   "execution_count": null,
   "metadata": {
    "collapsed": false
   },
   "outputs": [],
   "source": [
    "def average(num):\n",
    "    sum =0\n",
    "    for i in num:\n",
    "        sum += i\n",
    "        sum/len(num)\n",
    "\n",
    "    return sum/len(num)"
   ]
  },
  {
   "cell_type": "code",
   "execution_count": null,
   "metadata": {
    "collapsed": false
   },
   "outputs": [],
   "source": [
    "print(average(b))"
   ]
  },
  {
   "cell_type": "markdown",
   "metadata": {},
   "source": [
    "### 63 섭씨 화시로 바꾸는"
   ]
  },
  {
   "cell_type": "code",
   "execution_count": null,
   "metadata": {
    "collapsed": false
   },
   "outputs": [],
   "source": [
    "def toFahre(c):\n",
    "    fah = 0.0\n",
    "    fah = (c*9/5)+32\n",
    "    return fah"
   ]
  },
  {
   "cell_type": "code",
   "execution_count": null,
   "metadata": {
    "collapsed": false
   },
   "outputs": [],
   "source": [
    "print(\"Cel\", \"Faren\")\n",
    "for i in range(10,101,10):\n",
    "    \n",
    "    print(i, toFahre(i))"
   ]
  },
  {
   "cell_type": "markdown",
   "metadata": {},
   "source": [
    "### 66번 "
   ]
  },
  {
   "cell_type": "code",
   "execution_count": null,
   "metadata": {
    "collapsed": false
   },
   "outputs": [],
   "source": [
    "b = []\n",
    "\n",
    "while True:\n",
    "    a = input()\n",
    "    \n",
    "    if a is \"\":\n",
    "        break\n",
    "    \n",
    "    b.append(a)\n",
    "\n",
    "\n",
    "\n",
    "grade_point = {\"A+\":4.0,\"A\":4.0,\"A-\":3.7,\"B+\":3.3,\"B\":3.0,\"B-\":2.7,\"C+\":2.3,\"C\":2.0,\"C-\":1.7,\"D+\":1.3,\"D\":1.0,\"F\":0.0}\n",
    "\n",
    "def average_grade(grade):\n",
    "    sum = 0\n",
    "    b = 0.0\n",
    "    for i in grade:\n",
    "        \n",
    "        sum = sum+grade_point[i]\n",
    "        b = sum/len(grade)\n",
    "    return b"
   ]
  },
  {
   "cell_type": "code",
   "execution_count": null,
   "metadata": {
    "collapsed": false
   },
   "outputs": [],
   "source": [
    "print(average_grade(b))"
   ]
  },
  {
   "cell_type": "markdown",
   "metadata": {},
   "source": [
    "### 67번 "
   ]
  },
  {
   "cell_type": "code",
   "execution_count": 25,
   "metadata": {
    "collapsed": false
   },
   "outputs": [
    {
     "name": "stdout",
     "output_type": "stream",
     "text": [
      "3\n",
      "12\n",
      "15\n",
      "\n"
     ]
    }
   ],
   "source": [
    "b = []\n",
    "while True:\n",
    "    guest = input()\n",
    "    \n",
    "    if guest is \"\":\n",
    "        break\n",
    "    \n",
    "    b. append(int(guest))"
   ]
  },
  {
   "cell_type": "code",
   "execution_count": 26,
   "metadata": {
    "collapsed": false
   },
   "outputs": [
    {
     "name": "stdout",
     "output_type": "stream",
     "text": [
      "[3, 12, 15]\n"
     ]
    }
   ],
   "source": [
    "print(b)"
   ]
  },
  {
   "cell_type": "code",
   "execution_count": 31,
   "metadata": {
    "collapsed": false
   },
   "outputs": [
    {
     "name": "stdout",
     "output_type": "stream",
     "text": [
      "47\n"
     ]
    }
   ],
   "source": [
    "sum = 0\n",
    "for i in b:\n",
    "    \n",
    "    if i <=  2:\n",
    "        sum += 0\n",
    "    elif 3 <= i <= 12:\n",
    "        sum  += 12\n",
    "    elif i >= 65:\n",
    "        sum += 18\n",
    "    else:\n",
    "        sum += 23\n",
    "\n",
    "print(sum)"
   ]
  },
  {
   "cell_type": "markdown",
   "metadata": {},
   "source": [
    "### 72"
   ]
  },
  {
   "cell_type": "code",
   "execution_count": null,
   "metadata": {
    "collapsed": false
   },
   "outputs": [],
   "source": [
    "a =list(input())\n",
    "\n",
    "def palin(a):\n",
    "    if len(a)%2 :\n",
    "        for i in range(0,int((len(a)-1)/2)):\n",
    "            if a[i] is not a[len(a)-1-i]:\n",
    "                return False\n",
    "        return True\n",
    "    else:\n",
    "        for i in range(0,int(len(a)/2)):\n",
    "            if a[i] is not a[len(a)-1-i]:\n",
    "                return False\n",
    "        return True\n",
    "\n",
    "print(\"입력한 값은 Palindrome입니까?\", palin(a))"
   ]
  },
  {
   "cell_type": "markdown",
   "metadata": {},
   "source": [
    "### 74 "
   ]
  },
  {
   "cell_type": "code",
   "execution_count": null,
   "metadata": {
    "collapsed": false
   },
   "outputs": [],
   "source": [
    "for i in range(1,11):\n",
    "    for j in range(1,11):\n",
    "        print(i*j,end =\" \")\n",
    "    print(\"\")"
   ]
  },
  {
   "cell_type": "markdown",
   "metadata": {},
   "source": [
    "### 75"
   ]
  },
  {
   "cell_type": "code",
   "execution_count": null,
   "metadata": {
    "collapsed": false
   },
   "outputs": [],
   "source": [
    "m = int(input())\n",
    "n = int(input())"
   ]
  },
  {
   "cell_type": "code",
   "execution_count": null,
   "metadata": {
    "collapsed": false
   },
   "outputs": [],
   "source": [
    "d = 0\n",
    "\n",
    "if m > n:\n",
    "    d = n\n",
    "else:\n",
    "    d = m\n",
    "while m%d or n%d:\n",
    "    d -=1\n",
    "\n",
    "print(\"최대 공약수는\" ,d)"
   ]
  },
  {
   "cell_type": "markdown",
   "metadata": {},
   "source": [
    "### 77 "
   ]
  },
  {
   "cell_type": "code",
   "execution_count": null,
   "metadata": {
    "collapsed": false
   },
   "outputs": [],
   "source": [
    "bin =list(input())\n",
    "decimal = 0\n",
    "\n",
    "c = range(len(bin),0,-1)\n",
    "for i in c:\n",
    "    decimal += int(bin[i-1])*2**(len(bin)-i)\n",
    "\n",
    "print(decimal)    \n",
    "    \n"
   ]
  },
  {
   "cell_type": "markdown",
   "metadata": {},
   "source": [
    "### 78"
   ]
  },
  {
   "cell_type": "code",
   "execution_count": 23,
   "metadata": {
    "collapsed": false
   },
   "outputs": [
    {
     "name": "stdout",
     "output_type": "stream",
     "text": [
      "11\n"
     ]
    }
   ],
   "source": [
    "q = int(input())\n",
    "result = []"
   ]
  },
  {
   "cell_type": "code",
   "execution_count": 24,
   "metadata": {
    "collapsed": false
   },
   "outputs": [
    {
     "name": "stdout",
     "output_type": "stream",
     "text": [
      "[1, 0, 1, 1]\n"
     ]
    }
   ],
   "source": [
    "while q != 0 :\n",
    "    result.append(q%2)\n",
    "    q = int(q/2)\n",
    "\n",
    "result.reverse();\n",
    "print(result)"
   ]
  }
 ],
 "metadata": {
  "kernelspec": {
   "display_name": "Python 3",
   "language": "python",
   "name": "python3"
  },
  "language_info": {
   "codemirror_mode": {
    "name": "ipython",
    "version": 3
   },
   "file_extension": ".py",
   "mimetype": "text/x-python",
   "name": "python",
   "nbconvert_exporter": "python",
   "pygments_lexer": "ipython3",
   "version": "3.6.0"
  }
 },
 "nbformat": 4,
 "nbformat_minor": 2
}

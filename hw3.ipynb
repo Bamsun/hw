{
 "cells": [
  {
   "cell_type": "markdown",
   "metadata": {},
   "source": [
    "### 82 "
   ]
  },
  {
   "cell_type": "code",
   "execution_count": 49,
   "metadata": {
    "collapsed": false
   },
   "outputs": [
    {
     "name": "stdout",
     "output_type": "stream",
     "text": [
      "141\n",
      "4.25\n"
     ]
    }
   ],
   "source": [
    "meter = int(input())\n",
    "\n",
    "def taxi_fare(x):\n",
    "    t = 0\n",
    "    fare =.00\n",
    "    t = x//140\n",
    "    fare =0.25*t+4\n",
    "    return fare\n",
    "\n",
    "print(taxi_fare(meter))"
   ]
  },
  {
   "cell_type": "markdown",
   "metadata": {},
   "source": [
    "### 84"
   ]
  },
  {
   "cell_type": "code",
   "execution_count": 50,
   "metadata": {
    "collapsed": false
   },
   "outputs": [
    {
     "name": "stdout",
     "output_type": "stream",
     "text": [
      "13\n",
      "45\n",
      "6\n"
     ]
    }
   ],
   "source": [
    "a = int(input())\n",
    "b = int(input())\n",
    "c = int(input())"
   ]
  },
  {
   "cell_type": "code",
   "execution_count": 54,
   "metadata": {
    "collapsed": false
   },
   "outputs": [
    {
     "data": {
      "text/plain": [
       "[13, 45, 6]"
      ]
     },
     "execution_count": 54,
     "metadata": {},
     "output_type": "execute_result"
    }
   ],
   "source": [
    "d = [h for h in (a,b,c)]#컨프리핸션\n",
    "d"
   ]
  },
  {
   "cell_type": "code",
   "execution_count": 55,
   "metadata": {
    "collapsed": false
   },
   "outputs": [
    {
     "name": "stdout",
     "output_type": "stream",
     "text": [
      "13\n"
     ]
    }
   ],
   "source": [
    "def median_value(x,y,z):\n",
    "    \n",
    "    d =[h for h in (x,y,z)]\n",
    "    d.sort()\n",
    "    return d[1]\n",
    "\n",
    "print(median_value(a,b,c))"
   ]
  },
  {
   "cell_type": "markdown",
   "metadata": {},
   "source": [
    "### 85"
   ]
  },
  {
   "cell_type": "code",
   "execution_count": 14,
   "metadata": {
    "collapsed": false
   },
   "outputs": [],
   "source": [
    "ordic = dict()##import another program 어떻게 하는거지?"
   ]
  },
  {
   "cell_type": "code",
   "execution_count": 16,
   "metadata": {
    "collapsed": true
   },
   "outputs": [],
   "source": [
    "ordic = {1:\"first\",2:\"second\",3:\"third\",4:\"fourth\",5:\"fifth\",6:\"sixth\",7:\"seventh\",8:\"eighth\",9:\"nineth\",10:\"tenth\",11:\"eleventh\",12:\"twelve\"}"
   ]
  },
  {
   "cell_type": "code",
   "execution_count": 26,
   "metadata": {
    "collapsed": false
   },
   "outputs": [
    {
     "name": "stdout",
     "output_type": "stream",
     "text": [
      "14\n"
     ]
    }
   ],
   "source": [
    "a = int(input())"
   ]
  },
  {
   "cell_type": "code",
   "execution_count": 27,
   "metadata": {
    "collapsed": false
   },
   "outputs": [
    {
     "name": "stdout",
     "output_type": "stream",
     "text": [
      "\n"
     ]
    }
   ],
   "source": [
    "def convert_ordinal(x):\n",
    "    if 1<= x <= 12:\n",
    "        return ordic[x]\n",
    "    else:\n",
    "        return \"\"\n",
    "\n",
    "print(convert_ordinal(a))"
   ]
  },
  {
   "cell_type": "markdown",
   "metadata": {},
   "source": [
    "### 88 "
   ]
  },
  {
   "cell_type": "code",
   "execution_count": 11,
   "metadata": {
    "collapsed": false
   },
   "outputs": [
    {
     "name": "stdout",
     "output_type": "stream",
     "text": [
      "3\n",
      "5\n",
      "6\n"
     ]
    }
   ],
   "source": [
    "st1 = int(input())\n",
    "st2 = int(input())\n",
    "st3 = int(input())"
   ]
  },
  {
   "cell_type": "code",
   "execution_count": 56,
   "metadata": {
    "collapsed": false
   },
   "outputs": [
    {
     "data": {
      "text/plain": [
       "True"
      ]
     },
     "execution_count": 56,
     "metadata": {},
     "output_type": "execute_result"
    }
   ],
   "source": [
    "def triangle(x,y,z):\n",
    "    d = [h for h in (x,y,z)]\n",
    "    d.sort()\n",
    "    if d[2]>= d[0]+d[1]:\n",
    "        return False\n",
    "    else:\n",
    "        return True\n",
    "\n",
    "triangle(st1,st2,st3)"
   ]
  },
  {
   "cell_type": "markdown",
   "metadata": {},
   "source": [
    "### 92"
   ]
  },
  {
   "cell_type": "code",
   "execution_count": 41,
   "metadata": {
    "collapsed": false
   },
   "outputs": [
    {
     "name": "stdout",
     "output_type": "stream",
     "text": [
      "17\n"
     ]
    }
   ],
   "source": [
    "#리턴은 불리안으로 나오게 완전수 나눠서 자기 수만 나오게 2로 나눠서 반으로 쪼갠다음에 1만 나오면 완전수로\n",
    "\n",
    "num = int(input())"
   ]
  },
  {
   "cell_type": "code",
   "execution_count": 44,
   "metadata": {
    "collapsed": true
   },
   "outputs": [],
   "source": [
    "def number_prime(x):\n",
    "    d =[]\n",
    "    for i in range(1,x//2+2):\n",
    "        if x % i == 0:\n",
    "            d.append(i)\n",
    "    if len(d) == 1:\n",
    "        print(\"완전수 입니다.\")\n",
    "    else:\n",
    "        print(\"완전수가 아닙니다\")"
   ]
  },
  {
   "cell_type": "code",
   "execution_count": 43,
   "metadata": {
    "collapsed": false
   },
   "outputs": [
    {
     "name": "stdout",
     "output_type": "stream",
     "text": [
      "완전수 입니다.\n"
     ]
    }
   ],
   "source": [
    "number_prime(num)"
   ]
  }
 ],
 "metadata": {
  "kernelspec": {
   "display_name": "Python 3",
   "language": "python",
   "name": "python3"
  },
  "language_info": {
   "codemirror_mode": {
    "name": "ipython",
    "version": 3
   },
   "file_extension": ".py",
   "mimetype": "text/x-python",
   "name": "python",
   "nbconvert_exporter": "python",
   "pygments_lexer": "ipython3",
   "version": "3.6.0"
  }
 },
 "nbformat": 4,
 "nbformat_minor": 2
}

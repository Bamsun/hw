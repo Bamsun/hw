{
 "cells": [
  {
   "cell_type": "code",
   "execution_count": 3,
   "metadata": {
    "collapsed": true
   },
   "outputs": [],
   "source": [
    "import requests\n",
    "from bs4 import BeautifulSoup\n",
    "import json\n",
    "import urllib"
   ]
  },
  {
   "cell_type": "code",
   "execution_count": 4,
   "metadata": {
    "collapsed": true
   },
   "outputs": [],
   "source": [
    "from urllib import parse"
   ]
  },
  {
   "cell_type": "code",
   "execution_count": 5,
   "metadata": {
    "collapsed": false
   },
   "outputs": [],
   "source": [
    "params ={\n",
    "    \"serviceKey\":\"none\",\n",
    "    \"numberOfRows\":10,\n",
    "    \"pageNo\":1,\n",
    "    \"sidoName\":\"none\",\n",
    "    \"ver\":1.3,\n",
    "    \"_returnType\":\"json\"\n",
    "}\n",
    "#json으로 받기 위해서\n",
    "url= \"http://openapi.airkorea.or.kr/openapi/services/rest/ArpltnInforInqireSvc/getCtprvnRltmMesureDnsty\"\n",
    "params[\"sidoName\"]=\"광주\"\n",
    "params[\"serviceKey\"]=\"XMeTLrbD%2F88xl7VF9Y6FSyq3QauZsjJytEs8OaVYTwze66lSYXzfaE0bp58gX%2F%2FbT%2BT6QV9HIM%2Bo7K1CYrL1fQ%3D%3D\""
   ]
  },
  {
   "cell_type": "code",
   "execution_count": 6,
   "metadata": {
    "collapsed": false
   },
   "outputs": [],
   "source": [
    "params[\"serviceKey\"] = parse.unquote(params[\"serviceKey\"])#에러가 나는 파라미터를 디코드 해주는 과정\n",
    "paramUrl = parse.urlencode(params)#url로 들어가는 string타입으로\n",
    "paramByte =paramUrl.encode(\"utf-8\")"
   ]
  },
  {
   "cell_type": "code",
   "execution_count": 7,
   "metadata": {
    "collapsed": true
   },
   "outputs": [],
   "source": [
    "paramByte =paramUrl.encode(\"utf-8\")"
   ]
  },
  {
   "cell_type": "code",
   "execution_count": 8,
   "metadata": {
    "collapsed": false
   },
   "outputs": [],
   "source": [
    "def jsondown(url, paramByte):\n",
    "    req = urllib.request.Request(url, data =paramByte)\n",
    "    res =urllib.request.urlopen(req)\n",
    "    result = res.read()#byte형태로 요청을 읽어 온다.\n",
    "    resultStr = result.decode(\"utf-8\")#'utf-8'이 형태로 우리가 볼수 있게 디코드한다 str라고 생각하면 된다\n",
    "    resultObj = json.loads(resultStr)#json으로 받았으니 원형태로 load해준다\n",
    "    return resultObj"
   ]
  },
  {
   "cell_type": "code",
   "execution_count": 9,
   "metadata": {
    "collapsed": true
   },
   "outputs": [],
   "source": [
    "result = jsondown(url, paramByte)"
   ]
  },
  {
   "cell_type": "code",
   "execution_count": 10,
   "metadata": {
    "collapsed": false
   },
   "outputs": [],
   "source": [
    "y = result['list']"
   ]
  },
  {
   "cell_type": "code",
   "execution_count": 11,
   "metadata": {
    "collapsed": false
   },
   "outputs": [
    {
     "name": "stdout",
     "output_type": "stream",
     "text": [
      "[('1', '0.4', '2018-07-19 23:00', '2', '74', '도시대기', '1', '0.026', '10', '1', '0.009', '1', '2', '2', '37', '37', '2', '2', '26', '25', '1', '0.003', '서석동'), ('1', '0.5', '2018-07-19 23:00', '2', '74', '도시대기', '1', '0.020', '10', '1', '0.017', '1', '2', '2', '31', '37', '2', '2', '24', '25', '1', '0.003', '농성동'), ('1', '0.6', '2018-07-19 23:00', '2', '79', '도로변대기', '1', '0.025', '10', '1', '0.012', '1', '2', '2', '43', '45', '2', '2', '32', '27', '1', '0.003', '치평동'), ('1', '0.3', '2018-07-19 23:00', '2', '66', '도시대기', '1', '0.017', '10', '2', '0.034', '1', '2', '2', '45', '39', '2', '2', '25', '22', '1', '0.003', '두암동'), ('1', '0.6', '2018-07-19 23:00', '2', '66', '도로변대기', '2', '0.032', '10', '1', '0.010', '1', '1', '2', '31', '28', '2', '2', '17', '22', '1', '0.003', '운암동'), ('1', '0.5', '2018-07-19 23:00', '2', '59', '도시대기', '1', '0.011', '10', '1', '0.026', '1', '2', '2', '35', '31', '2', '2', '21', '19', '1', '0.002', '건국동'), ('1', '0.3', '2018-07-19 23:00', '2', '64', '도시대기', '1', '0.012', '10', '1', '0.022', '1', '1', '1', '24', '27', '2', '2', '20', '21', '1', '0.002', '송정1동'), ('1', '0.5', '2018-07-19 23:00', '2', '61', '도시대기', '1', '0.016', '10', '1', '0.016', '1', '2', '2', '35', '32', '2', '2', '21', '20', '1', '0.003', '오선동'), ('1', '0.3', '2018-07-19 23:00', '2', '66', '도시대기', '1', '0.023', '10', '1', '0.013', '1', '2', '2', '38', '39', '2', '2', '20', '22', '1', '0.003', '주월동')]\n"
     ]
    }
   ],
   "source": [
    "b =[]\n",
    "for i in y:\n",
    "    b.append((i['coGrade'],i['coValue'],i['dataTime'],i['khaiGrade'],i['khaiValue'],i['mangName'],i['no2Grade'],i['no2Value'],i['numOfRows'],i['o3Grade'],i['o3Value'],i['pageNo'],i['pm10Grade'],i['pm10Grade1h'],i['pm10Value'],i['pm10Value24'],i['pm25Grade'],i['pm25Grade1h'],i['pm25Value'],i['pm25Value24'],i['so2Grade'],i['so2Value'],i['stationName']))\n",
    "print(b)"
   ]
  },
  {
   "cell_type": "code",
   "execution_count": 12,
   "metadata": {
    "collapsed": false
   },
   "outputs": [],
   "source": [
    "import sqlite3"
   ]
  },
  {
   "cell_type": "code",
   "execution_count": 33,
   "metadata": {
    "collapsed": false
   },
   "outputs": [],
   "source": [
    "conn = sqlite3.connect('air.db')"
   ]
  },
  {
   "cell_type": "code",
   "execution_count": 34,
   "metadata": {
    "collapsed": true
   },
   "outputs": [],
   "source": [
    "cur = conn.cursor()"
   ]
  },
  {
   "cell_type": "code",
   "execution_count": 36,
   "metadata": {
    "collapsed": false
   },
   "outputs": [
    {
     "data": {
      "text/plain": [
       "<sqlite3.Cursor at 0x16831f935e0>"
      ]
     },
     "execution_count": 36,
     "metadata": {},
     "output_type": "execute_result"
    }
   ],
   "source": [
    "cur.execute(\"\"\"\n",
    "    create table air(\n",
    "    coGrade  text,\n",
    "    coValue text,\n",
    "    dataTime text,\n",
    "    khaiGrade text,\n",
    "    khaiValue text,\n",
    "    mangNAme text,\n",
    "    no2Grade text,\n",
    "    no2Value text,\n",
    "    numOfRows text,\n",
    "    o3Grade text,\n",
    "    o3Value text,\n",
    "    pageNo text,\n",
    "    pm10Grade  text,\n",
    "    pm10Grade1h text,\n",
    "    pm10Value text,\n",
    "    pm10Value24   text,\n",
    "    pm25Grade    text,\n",
    "    pm25Grade1h  text,\n",
    "    pm25Value   text,\n",
    "    pm25Value24 text,\n",
    "    so2Grade  text,\n",
    "    so2Value text,\n",
    "    stationName text );\n",
    "\"\"\")"
   ]
  },
  {
   "cell_type": "code",
   "execution_count": 35,
   "metadata": {
    "collapsed": false
   },
   "outputs": [
    {
     "data": {
      "text/plain": [
       "<sqlite3.Cursor at 0x16831f935e0>"
      ]
     },
     "execution_count": 35,
     "metadata": {},
     "output_type": "execute_result"
    }
   ],
   "source": [
    "cur.execute(\"drop table air\")"
   ]
  },
  {
   "cell_type": "code",
   "execution_count": 37,
   "metadata": {
    "collapsed": false
   },
   "outputs": [],
   "source": [
    "cur.executemany(\"Insert into air values(?,?,?,?,?,?,?,?,?,?,?,?,?,?,?,?,?,?,?,?,?,?,?)\",b);"
   ]
  },
  {
   "cell_type": "code",
   "execution_count": 38,
   "metadata": {
    "collapsed": true
   },
   "outputs": [],
   "source": [
    "conn.commit()\n",
    "conn.close()"
   ]
  }
 ],
 "metadata": {
  "kernelspec": {
   "display_name": "Python 3",
   "language": "python",
   "name": "python3"
  },
  "language_info": {
   "codemirror_mode": {
    "name": "ipython",
    "version": 3
   },
   "file_extension": ".py",
   "mimetype": "text/x-python",
   "name": "python",
   "nbconvert_exporter": "python",
   "pygments_lexer": "ipython3",
   "version": "3.6.0"
  }
 },
 "nbformat": 4,
 "nbformat_minor": 2
}
